{
  "nbformat": 4,
  "nbformat_minor": 0,
  "metadata": {
    "colab": {
      "name": "House_Rocket_ML.ipynb",
      "provenance": [],
      "collapsed_sections": [],
      "mount_file_id": "1p7R1szN3cn2diZMf6S0ePQpHDZIZPsXM",
      "authorship_tag": "ABX9TyMdE+jlyEjwRaOc7kDu9/4r",
      "include_colab_link": true
    },
    "kernelspec": {
      "name": "python3",
      "display_name": "Python 3"
    },
    "language_info": {
      "name": "python"
    },
    "accelerator": "GPU"
  },
  "cells": [
    {
      "cell_type": "markdown",
      "metadata": {
        "id": "view-in-github",
        "colab_type": "text"
      },
      "source": [
        "<a href=\"https://colab.research.google.com/github/lucasquemelli/House_Rocket_Machine_Learning/blob/main/House_Rocket_ML.ipynb\" target=\"_parent\"><img src=\"https://colab.research.google.com/assets/colab-badge.svg\" alt=\"Open In Colab\"/></a>"
      ]
    },
    {
      "cell_type": "markdown",
      "metadata": {
        "id": "kYC1Zx6TgvNg"
      },
      "source": [
        "# Libraries"
      ]
    },
    {
      "cell_type": "code",
      "metadata": {
        "id": "WMrZOWKHgjrU"
      },
      "source": [
        "import pandas as pd\n",
        "import numpy as np\n",
        "import seaborn as sns\n",
        "import plotly.express as px\n",
        "\n",
        "from scipy import stats\n",
        "from matplotlib import pyplot as plt"
      ],
      "execution_count": 1,
      "outputs": []
    },
    {
      "cell_type": "markdown",
      "metadata": {
        "id": "iWkr6wehhDpz"
      },
      "source": [
        "# 1. Exploratory Data Analysis"
      ]
    },
    {
      "cell_type": "code",
      "metadata": {
        "id": "jWF3uk6PhKEI"
      },
      "source": [
        "url = 'https://raw.githubusercontent.com/lucasquemelli/House_Rocket/main/kc_house_data.csv'\n",
        "data = pd.read_csv(url)"
      ],
      "execution_count": 2,
      "outputs": []
    },
    {
      "cell_type": "markdown",
      "metadata": {
        "id": "CDOWQlMEhitU"
      },
      "source": [
        "# 1.1 Data Description "
      ]
    },
    {
      "cell_type": "code",
      "metadata": {
        "colab": {
          "base_uri": "https://localhost:8080/",
          "height": 439
        },
        "id": "sCj2IZoHhQgr",
        "outputId": "d60cd365-9423-4ba3-b132-09bb3f6a755a"
      },
      "source": [
        "data"
      ],
      "execution_count": 3,
      "outputs": [
        {
          "output_type": "execute_result",
          "data": {
            "text/html": [
              "<div>\n",
              "<style scoped>\n",
              "    .dataframe tbody tr th:only-of-type {\n",
              "        vertical-align: middle;\n",
              "    }\n",
              "\n",
              "    .dataframe tbody tr th {\n",
              "        vertical-align: top;\n",
              "    }\n",
              "\n",
              "    .dataframe thead th {\n",
              "        text-align: right;\n",
              "    }\n",
              "</style>\n",
              "<table border=\"1\" class=\"dataframe\">\n",
              "  <thead>\n",
              "    <tr style=\"text-align: right;\">\n",
              "      <th></th>\n",
              "      <th>id</th>\n",
              "      <th>date</th>\n",
              "      <th>price</th>\n",
              "      <th>bedrooms</th>\n",
              "      <th>bathrooms</th>\n",
              "      <th>sqft_living</th>\n",
              "      <th>sqft_lot</th>\n",
              "      <th>floors</th>\n",
              "      <th>waterfront</th>\n",
              "      <th>view</th>\n",
              "      <th>condition</th>\n",
              "      <th>grade</th>\n",
              "      <th>sqft_above</th>\n",
              "      <th>sqft_basement</th>\n",
              "      <th>yr_built</th>\n",
              "      <th>yr_renovated</th>\n",
              "      <th>zipcode</th>\n",
              "      <th>lat</th>\n",
              "      <th>long</th>\n",
              "      <th>sqft_living15</th>\n",
              "      <th>sqft_lot15</th>\n",
              "    </tr>\n",
              "  </thead>\n",
              "  <tbody>\n",
              "    <tr>\n",
              "      <th>0</th>\n",
              "      <td>7129300520</td>\n",
              "      <td>20141013T000000</td>\n",
              "      <td>221900.0</td>\n",
              "      <td>3</td>\n",
              "      <td>1.00</td>\n",
              "      <td>1180</td>\n",
              "      <td>5650</td>\n",
              "      <td>1.0</td>\n",
              "      <td>0</td>\n",
              "      <td>0</td>\n",
              "      <td>3</td>\n",
              "      <td>7</td>\n",
              "      <td>1180</td>\n",
              "      <td>0</td>\n",
              "      <td>1955</td>\n",
              "      <td>0</td>\n",
              "      <td>98178</td>\n",
              "      <td>47.5112</td>\n",
              "      <td>-122.257</td>\n",
              "      <td>1340</td>\n",
              "      <td>5650</td>\n",
              "    </tr>\n",
              "    <tr>\n",
              "      <th>1</th>\n",
              "      <td>6414100192</td>\n",
              "      <td>20141209T000000</td>\n",
              "      <td>538000.0</td>\n",
              "      <td>3</td>\n",
              "      <td>2.25</td>\n",
              "      <td>2570</td>\n",
              "      <td>7242</td>\n",
              "      <td>2.0</td>\n",
              "      <td>0</td>\n",
              "      <td>0</td>\n",
              "      <td>3</td>\n",
              "      <td>7</td>\n",
              "      <td>2170</td>\n",
              "      <td>400</td>\n",
              "      <td>1951</td>\n",
              "      <td>1991</td>\n",
              "      <td>98125</td>\n",
              "      <td>47.7210</td>\n",
              "      <td>-122.319</td>\n",
              "      <td>1690</td>\n",
              "      <td>7639</td>\n",
              "    </tr>\n",
              "    <tr>\n",
              "      <th>2</th>\n",
              "      <td>5631500400</td>\n",
              "      <td>20150225T000000</td>\n",
              "      <td>180000.0</td>\n",
              "      <td>2</td>\n",
              "      <td>1.00</td>\n",
              "      <td>770</td>\n",
              "      <td>10000</td>\n",
              "      <td>1.0</td>\n",
              "      <td>0</td>\n",
              "      <td>0</td>\n",
              "      <td>3</td>\n",
              "      <td>6</td>\n",
              "      <td>770</td>\n",
              "      <td>0</td>\n",
              "      <td>1933</td>\n",
              "      <td>0</td>\n",
              "      <td>98028</td>\n",
              "      <td>47.7379</td>\n",
              "      <td>-122.233</td>\n",
              "      <td>2720</td>\n",
              "      <td>8062</td>\n",
              "    </tr>\n",
              "    <tr>\n",
              "      <th>3</th>\n",
              "      <td>2487200875</td>\n",
              "      <td>20141209T000000</td>\n",
              "      <td>604000.0</td>\n",
              "      <td>4</td>\n",
              "      <td>3.00</td>\n",
              "      <td>1960</td>\n",
              "      <td>5000</td>\n",
              "      <td>1.0</td>\n",
              "      <td>0</td>\n",
              "      <td>0</td>\n",
              "      <td>5</td>\n",
              "      <td>7</td>\n",
              "      <td>1050</td>\n",
              "      <td>910</td>\n",
              "      <td>1965</td>\n",
              "      <td>0</td>\n",
              "      <td>98136</td>\n",
              "      <td>47.5208</td>\n",
              "      <td>-122.393</td>\n",
              "      <td>1360</td>\n",
              "      <td>5000</td>\n",
              "    </tr>\n",
              "    <tr>\n",
              "      <th>4</th>\n",
              "      <td>1954400510</td>\n",
              "      <td>20150218T000000</td>\n",
              "      <td>510000.0</td>\n",
              "      <td>3</td>\n",
              "      <td>2.00</td>\n",
              "      <td>1680</td>\n",
              "      <td>8080</td>\n",
              "      <td>1.0</td>\n",
              "      <td>0</td>\n",
              "      <td>0</td>\n",
              "      <td>3</td>\n",
              "      <td>8</td>\n",
              "      <td>1680</td>\n",
              "      <td>0</td>\n",
              "      <td>1987</td>\n",
              "      <td>0</td>\n",
              "      <td>98074</td>\n",
              "      <td>47.6168</td>\n",
              "      <td>-122.045</td>\n",
              "      <td>1800</td>\n",
              "      <td>7503</td>\n",
              "    </tr>\n",
              "    <tr>\n",
              "      <th>...</th>\n",
              "      <td>...</td>\n",
              "      <td>...</td>\n",
              "      <td>...</td>\n",
              "      <td>...</td>\n",
              "      <td>...</td>\n",
              "      <td>...</td>\n",
              "      <td>...</td>\n",
              "      <td>...</td>\n",
              "      <td>...</td>\n",
              "      <td>...</td>\n",
              "      <td>...</td>\n",
              "      <td>...</td>\n",
              "      <td>...</td>\n",
              "      <td>...</td>\n",
              "      <td>...</td>\n",
              "      <td>...</td>\n",
              "      <td>...</td>\n",
              "      <td>...</td>\n",
              "      <td>...</td>\n",
              "      <td>...</td>\n",
              "      <td>...</td>\n",
              "    </tr>\n",
              "    <tr>\n",
              "      <th>21608</th>\n",
              "      <td>263000018</td>\n",
              "      <td>20140521T000000</td>\n",
              "      <td>360000.0</td>\n",
              "      <td>3</td>\n",
              "      <td>2.50</td>\n",
              "      <td>1530</td>\n",
              "      <td>1131</td>\n",
              "      <td>3.0</td>\n",
              "      <td>0</td>\n",
              "      <td>0</td>\n",
              "      <td>3</td>\n",
              "      <td>8</td>\n",
              "      <td>1530</td>\n",
              "      <td>0</td>\n",
              "      <td>2009</td>\n",
              "      <td>0</td>\n",
              "      <td>98103</td>\n",
              "      <td>47.6993</td>\n",
              "      <td>-122.346</td>\n",
              "      <td>1530</td>\n",
              "      <td>1509</td>\n",
              "    </tr>\n",
              "    <tr>\n",
              "      <th>21609</th>\n",
              "      <td>6600060120</td>\n",
              "      <td>20150223T000000</td>\n",
              "      <td>400000.0</td>\n",
              "      <td>4</td>\n",
              "      <td>2.50</td>\n",
              "      <td>2310</td>\n",
              "      <td>5813</td>\n",
              "      <td>2.0</td>\n",
              "      <td>0</td>\n",
              "      <td>0</td>\n",
              "      <td>3</td>\n",
              "      <td>8</td>\n",
              "      <td>2310</td>\n",
              "      <td>0</td>\n",
              "      <td>2014</td>\n",
              "      <td>0</td>\n",
              "      <td>98146</td>\n",
              "      <td>47.5107</td>\n",
              "      <td>-122.362</td>\n",
              "      <td>1830</td>\n",
              "      <td>7200</td>\n",
              "    </tr>\n",
              "    <tr>\n",
              "      <th>21610</th>\n",
              "      <td>1523300141</td>\n",
              "      <td>20140623T000000</td>\n",
              "      <td>402101.0</td>\n",
              "      <td>2</td>\n",
              "      <td>0.75</td>\n",
              "      <td>1020</td>\n",
              "      <td>1350</td>\n",
              "      <td>2.0</td>\n",
              "      <td>0</td>\n",
              "      <td>0</td>\n",
              "      <td>3</td>\n",
              "      <td>7</td>\n",
              "      <td>1020</td>\n",
              "      <td>0</td>\n",
              "      <td>2009</td>\n",
              "      <td>0</td>\n",
              "      <td>98144</td>\n",
              "      <td>47.5944</td>\n",
              "      <td>-122.299</td>\n",
              "      <td>1020</td>\n",
              "      <td>2007</td>\n",
              "    </tr>\n",
              "    <tr>\n",
              "      <th>21611</th>\n",
              "      <td>291310100</td>\n",
              "      <td>20150116T000000</td>\n",
              "      <td>400000.0</td>\n",
              "      <td>3</td>\n",
              "      <td>2.50</td>\n",
              "      <td>1600</td>\n",
              "      <td>2388</td>\n",
              "      <td>2.0</td>\n",
              "      <td>0</td>\n",
              "      <td>0</td>\n",
              "      <td>3</td>\n",
              "      <td>8</td>\n",
              "      <td>1600</td>\n",
              "      <td>0</td>\n",
              "      <td>2004</td>\n",
              "      <td>0</td>\n",
              "      <td>98027</td>\n",
              "      <td>47.5345</td>\n",
              "      <td>-122.069</td>\n",
              "      <td>1410</td>\n",
              "      <td>1287</td>\n",
              "    </tr>\n",
              "    <tr>\n",
              "      <th>21612</th>\n",
              "      <td>1523300157</td>\n",
              "      <td>20141015T000000</td>\n",
              "      <td>325000.0</td>\n",
              "      <td>2</td>\n",
              "      <td>0.75</td>\n",
              "      <td>1020</td>\n",
              "      <td>1076</td>\n",
              "      <td>2.0</td>\n",
              "      <td>0</td>\n",
              "      <td>0</td>\n",
              "      <td>3</td>\n",
              "      <td>7</td>\n",
              "      <td>1020</td>\n",
              "      <td>0</td>\n",
              "      <td>2008</td>\n",
              "      <td>0</td>\n",
              "      <td>98144</td>\n",
              "      <td>47.5941</td>\n",
              "      <td>-122.299</td>\n",
              "      <td>1020</td>\n",
              "      <td>1357</td>\n",
              "    </tr>\n",
              "  </tbody>\n",
              "</table>\n",
              "<p>21613 rows × 21 columns</p>\n",
              "</div>"
            ],
            "text/plain": [
              "               id             date  ...  sqft_living15  sqft_lot15\n",
              "0      7129300520  20141013T000000  ...           1340        5650\n",
              "1      6414100192  20141209T000000  ...           1690        7639\n",
              "2      5631500400  20150225T000000  ...           2720        8062\n",
              "3      2487200875  20141209T000000  ...           1360        5000\n",
              "4      1954400510  20150218T000000  ...           1800        7503\n",
              "...           ...              ...  ...            ...         ...\n",
              "21608   263000018  20140521T000000  ...           1530        1509\n",
              "21609  6600060120  20150223T000000  ...           1830        7200\n",
              "21610  1523300141  20140623T000000  ...           1020        2007\n",
              "21611   291310100  20150116T000000  ...           1410        1287\n",
              "21612  1523300157  20141015T000000  ...           1020        1357\n",
              "\n",
              "[21613 rows x 21 columns]"
            ]
          },
          "metadata": {},
          "execution_count": 3
        }
      ]
    },
    {
      "cell_type": "code",
      "metadata": {
        "colab": {
          "base_uri": "https://localhost:8080/"
        },
        "id": "t3ra3ekPhauc",
        "outputId": "56f61174-2f3a-4126-8a1c-567b14164ae3"
      },
      "source": [
        "def data_shape(data):\n",
        "    print(\"Shape of the dataset\")\n",
        "    print(\"\\nNumber of rows: {}\\nNumber of columns: {}\".format(data.shape[0],data.shape[1]))\n",
        "    \n",
        "    return None\n",
        "\n",
        "def num_attributes(data):\n",
        "    num_attributes = len(data.columns) - 2\n",
        "    print(\"\\n\\nThe number of attribute is:\", num_attributes)\n",
        "    \n",
        "    return num_attributes\n",
        "\n",
        "def attributes(data):\n",
        "    attributes = data.drop(['id','date'], axis=1)\n",
        "    print(\"\\n\\nThe attributes are:\\n\\n\",attributes.columns.tolist())\n",
        "    \n",
        "    return attributes\n",
        "\n",
        "def data_info(data):\n",
        "    print(\"\\n\\nData types\\n\")\n",
        "    data.info()\n",
        "    \n",
        "    return None\n",
        "\n",
        "def descriptive_analysis(data):\n",
        "    pd.set_option('display.float_format', lambda x: '%.2f' % x)\n",
        "    print(\"\\n\\nDescriptive analysis:\\n\\n\",data.describe().T)\n",
        "    \n",
        "    return None\n",
        "\n",
        "def display(data):\n",
        "    #Displaying unique values for the number of bedrooms, bathrooms, floors, waterfront, view, condition and grade\n",
        "    print(\"\\n\\nAttributes unique values\")\n",
        "    print(\"\\n\\nUnique values for bedrooms:\", np.sort(data['bedrooms'].unique())) \n",
        "    print(\"\\nUnique values for bathrooms:\", np.sort(data['bathrooms'].unique()))\n",
        "    print(\"\\nUnique values for floors:\", np.sort(data['floors'].unique()))\n",
        "    print(\"\\nUnique values for waterfront:\", np.sort(data['waterfront'].unique()))\n",
        "    print(\"\\nUnique values for view:\", np.sort(data['view'].unique()))\n",
        "    print(\"\\nUnique values for condition:\", np.sort(data['condition'].unique()))\n",
        "    print(\"\\nUnique values for grade:\", np.sort(data['grade'].unique()))\n",
        "    \n",
        "    return None\n",
        "\n",
        "if __name__ == '__main__':\n",
        "    \n",
        "    data_shape(data)\n",
        "    \n",
        "    num_attributes = num_attributes(data)\n",
        "    \n",
        "    attributes = attributes(data)\n",
        "    \n",
        "    data_info(data)\n",
        "    \n",
        "    descriptive_analysis(data)\n",
        "    \n",
        "    display(data)"
      ],
      "execution_count": 4,
      "outputs": [
        {
          "output_type": "stream",
          "name": "stdout",
          "text": [
            "Shape of the dataset\n",
            "\n",
            "Number of rows: 21613\n",
            "Number of columns: 21\n",
            "\n",
            "\n",
            "The number of attribute is: 19\n",
            "\n",
            "\n",
            "The attributes are:\n",
            "\n",
            " ['price', 'bedrooms', 'bathrooms', 'sqft_living', 'sqft_lot', 'floors', 'waterfront', 'view', 'condition', 'grade', 'sqft_above', 'sqft_basement', 'yr_built', 'yr_renovated', 'zipcode', 'lat', 'long', 'sqft_living15', 'sqft_lot15']\n",
            "\n",
            "\n",
            "Data types\n",
            "\n",
            "<class 'pandas.core.frame.DataFrame'>\n",
            "RangeIndex: 21613 entries, 0 to 21612\n",
            "Data columns (total 21 columns):\n",
            " #   Column         Non-Null Count  Dtype  \n",
            "---  ------         --------------  -----  \n",
            " 0   id             21613 non-null  int64  \n",
            " 1   date           21613 non-null  object \n",
            " 2   price          21613 non-null  float64\n",
            " 3   bedrooms       21613 non-null  int64  \n",
            " 4   bathrooms      21613 non-null  float64\n",
            " 5   sqft_living    21613 non-null  int64  \n",
            " 6   sqft_lot       21613 non-null  int64  \n",
            " 7   floors         21613 non-null  float64\n",
            " 8   waterfront     21613 non-null  int64  \n",
            " 9   view           21613 non-null  int64  \n",
            " 10  condition      21613 non-null  int64  \n",
            " 11  grade          21613 non-null  int64  \n",
            " 12  sqft_above     21613 non-null  int64  \n",
            " 13  sqft_basement  21613 non-null  int64  \n",
            " 14  yr_built       21613 non-null  int64  \n",
            " 15  yr_renovated   21613 non-null  int64  \n",
            " 16  zipcode        21613 non-null  int64  \n",
            " 17  lat            21613 non-null  float64\n",
            " 18  long           21613 non-null  float64\n",
            " 19  sqft_living15  21613 non-null  int64  \n",
            " 20  sqft_lot15     21613 non-null  int64  \n",
            "dtypes: float64(5), int64(15), object(1)\n",
            "memory usage: 3.5+ MB\n",
            "\n",
            "\n",
            "Descriptive analysis:\n",
            "\n",
            "                  count          mean  ...           75%           max\n",
            "id            21613.00 4580301520.86  ... 7308900445.00 9900000190.00\n",
            "price         21613.00     540088.14  ...     645000.00    7700000.00\n",
            "bedrooms      21613.00          3.37  ...          4.00         33.00\n",
            "bathrooms     21613.00          2.11  ...          2.50          8.00\n",
            "sqft_living   21613.00       2079.90  ...       2550.00      13540.00\n",
            "sqft_lot      21613.00      15106.97  ...      10688.00    1651359.00\n",
            "floors        21613.00          1.49  ...          2.00          3.50\n",
            "waterfront    21613.00          0.01  ...          0.00          1.00\n",
            "view          21613.00          0.23  ...          0.00          4.00\n",
            "condition     21613.00          3.41  ...          4.00          5.00\n",
            "grade         21613.00          7.66  ...          8.00         13.00\n",
            "sqft_above    21613.00       1788.39  ...       2210.00       9410.00\n",
            "sqft_basement 21613.00        291.51  ...        560.00       4820.00\n",
            "yr_built      21613.00       1971.01  ...       1997.00       2015.00\n",
            "yr_renovated  21613.00         84.40  ...          0.00       2015.00\n",
            "zipcode       21613.00      98077.94  ...      98118.00      98199.00\n",
            "lat           21613.00         47.56  ...         47.68         47.78\n",
            "long          21613.00       -122.21  ...       -122.12       -121.31\n",
            "sqft_living15 21613.00       1986.55  ...       2360.00       6210.00\n",
            "sqft_lot15    21613.00      12768.46  ...      10083.00     871200.00\n",
            "\n",
            "[20 rows x 8 columns]\n",
            "\n",
            "\n",
            "Attributes unique values\n",
            "\n",
            "\n",
            "Unique values for bedrooms: [ 0  1  2  3  4  5  6  7  8  9 10 11 33]\n",
            "\n",
            "Unique values for bathrooms: [0.   0.5  0.75 1.   1.25 1.5  1.75 2.   2.25 2.5  2.75 3.   3.25 3.5\n",
            " 3.75 4.   4.25 4.5  4.75 5.   5.25 5.5  5.75 6.   6.25 6.5  6.75 7.5\n",
            " 7.75 8.  ]\n",
            "\n",
            "Unique values for floors: [1.  1.5 2.  2.5 3.  3.5]\n",
            "\n",
            "Unique values for waterfront: [0 1]\n",
            "\n",
            "Unique values for view: [0 1 2 3 4]\n",
            "\n",
            "Unique values for condition: [1 2 3 4 5]\n",
            "\n",
            "Unique values for grade: [ 1  3  4  5  6  7  8  9 10 11 12 13]\n"
          ]
        }
      ]
    },
    {
      "cell_type": "markdown",
      "metadata": {
        "id": "0Lc7nJ3RkDnV"
      },
      "source": [
        "**Meaning of the attributes**\n",
        "\n",
        "- ID: identification number\n",
        "- date: period in which the properties were available\n",
        "- bedrooms: number of bedrooms\n",
        "- bathrooms: number of bathrooms\n",
        "- floors: number of floors\n",
        "- waterfront: if some property has waterfront or not (0 or 1)\n",
        "- view: number of views\n",
        "- condition: condition of the properties (1 to 5)\n",
        "- grade: quality of the building and construction level\n",
        "- price: price of the property\n",
        "- sqft_living: living room built area [ft²]\n",
        "- sqft_lot: lot area [ft²]\n",
        "- sqft_above: built area above ground level [ft²]\n",
        "- sqft_basement: built basement area [ft²]\n",
        "- yr_built: year that the property was built\n",
        "- yr_renovated: year of renovation\n",
        "- sqft_living15: average built area of the 15 nearest neighboring properties [ft²]\n",
        "- sqft_lot15: average lot area of the 15 nearest neighboring properties [ft²]\n",
        "- zipcode: number of zipcode\n",
        "- lat: latitude identification number\n",
        "- long: longitude identification number"
      ]
    },
    {
      "cell_type": "markdown",
      "metadata": {
        "id": "cQWLs1IUkuo_"
      },
      "source": [
        "# 1.2 Data Cleaning"
      ]
    },
    {
      "cell_type": "code",
      "metadata": {
        "colab": {
          "base_uri": "https://localhost:8080/"
        },
        "id": "kQ1wC2pwkT0r",
        "outputId": "dfe7a524-2e5d-4669-c709-86ceae558d7b"
      },
      "source": [
        "def missing_values(data):\n",
        "    print(\"Missing values\\n\")\n",
        "    print(data.isna().sum())\n",
        "    \n",
        "    return None\n",
        "\n",
        "def ids(data):\n",
        "    ids = data['id']\n",
        "    \n",
        "    return ids\n",
        "\n",
        "def duplicates_id(data):\n",
        "    print(\"\\n\\nDuplicates\\n\")\n",
        "    print(data[ids.isin(ids[ids.duplicated()])].sort_values('id'))\n",
        "    \n",
        "    return None\n",
        "\n",
        "if __name__ == '__main__':\n",
        "    \n",
        "    missing_values(data)\n",
        "    \n",
        "    ids = ids(data)\n",
        "    \n",
        "    duplicates_id(data)"
      ],
      "execution_count": 5,
      "outputs": [
        {
          "output_type": "stream",
          "name": "stdout",
          "text": [
            "Missing values\n",
            "\n",
            "id               0\n",
            "date             0\n",
            "price            0\n",
            "bedrooms         0\n",
            "bathrooms        0\n",
            "sqft_living      0\n",
            "sqft_lot         0\n",
            "floors           0\n",
            "waterfront       0\n",
            "view             0\n",
            "condition        0\n",
            "grade            0\n",
            "sqft_above       0\n",
            "sqft_basement    0\n",
            "yr_built         0\n",
            "yr_renovated     0\n",
            "zipcode          0\n",
            "lat              0\n",
            "long             0\n",
            "sqft_living15    0\n",
            "sqft_lot15       0\n",
            "dtype: int64\n",
            "\n",
            "\n",
            "Duplicates\n",
            "\n",
            "               id             date     price  ...    long  sqft_living15  sqft_lot15\n",
            "2497      1000102  20150422T000000 300000.00  ... -122.21           2060        7316\n",
            "2496      1000102  20140916T000000 280000.00  ... -122.21           2060        7316\n",
            "16814     7200179  20141016T000000 150000.00  ... -122.21           1480        6969\n",
            "16815     7200179  20150424T000000 175000.00  ... -122.21           1480        6969\n",
            "11434   109200390  20141020T000000 250000.00  ... -122.37           1830        6956\n",
            "...           ...              ...       ...  ...     ...            ...         ...\n",
            "6345   9828200460  20140627T000000 260000.00  ... -122.30           1440        4800\n",
            "15200  9834200305  20150210T000000 615000.00  ... -122.29           1360        4080\n",
            "15199  9834200305  20140716T000000 350000.00  ... -122.29           1360        4080\n",
            "1085   9834200885  20140717T000000 360000.00  ... -122.29           1340        4080\n",
            "1086   9834200885  20150420T000000 550000.00  ... -122.29           1340        4080\n",
            "\n",
            "[353 rows x 21 columns]\n"
          ]
        }
      ]
    },
    {
      "cell_type": "markdown",
      "metadata": {
        "id": "-o_w5FY_pZlO"
      },
      "source": [
        "Duplicates (353) in this dataset are meant to be properties which were sold twice or more between 2014 and 2015. These properties were sold on different dates and at different prices. It means the price changes with time."
      ]
    },
    {
      "cell_type": "markdown",
      "metadata": {
        "id": "peF5sutkpzNN"
      },
      "source": [
        "## 1.3. Data Conversion"
      ]
    },
    {
      "cell_type": "code",
      "metadata": {
        "id": "8O9fWH4pp3Gq"
      },
      "source": [
        "data['date'] =  pd.to_datetime(data['date'])"
      ],
      "execution_count": 6,
      "outputs": []
    },
    {
      "cell_type": "markdown",
      "metadata": {
        "id": "2B0CASXWqDKU"
      },
      "source": [
        "## 1.4. Outliers"
      ]
    },
    {
      "cell_type": "markdown",
      "metadata": {
        "id": "rp5-qLqLqqtE"
      },
      "source": [
        "We may see the outliers in the dataset using the boxplot chart:"
      ]
    },
    {
      "cell_type": "code",
      "metadata": {
        "colab": {
          "base_uri": "https://localhost:8080/",
          "height": 268
        },
        "id": "_1AaoOQ_qOGg",
        "outputId": "c4c5c1a4-a4f8-4b50-9c1c-5b44cb6a61f4"
      },
      "source": [
        "ax = sns.boxplot(y='price',data=data)\n",
        "ax.set_title(\"Univariate price boxplot\")\n",
        "ax.set_ylabel(\"Price (USD)\")\n",
        "\n",
        "mybox = ax.artists[0]\n",
        "mybox.set_facecolor('black')\n",
        "mybox.set_edgecolor('black')\n",
        "#mybox.set_linewidth(3)"
      ],
      "execution_count": 7,
      "outputs": [
        {
          "output_type": "display_data",
          "data": {
            "image/png": "[encoded data removed]",
            "text/plain": [
              "<Figure size 432x288 with 1 Axes>"
            ]
          },
          "metadata": {
            "needs_background": "light"
          }
        }
      ]
    },
    {
      "cell_type": "markdown",
      "metadata": {
        "id": "NxT-X4wArFBp"
      },
      "source": [
        "As it may be seen above, this is an univariate analysis. As the price is influenced by a lot of features in the dataset, we must remove outliers using multivariate analysis.\n",
        "To remove outliers using multivariate analysis, we are going to use two methods: **Z-score method** and **interquartile range method**. "
      ]
    },
    {
      "cell_type": "markdown",
      "metadata": {
        "id": "KKlZyPYcsOHB"
      },
      "source": [
        "Firstly, in order to use the methods Z-score and interquartile range, we have to set the column 'date' as integer as follows:"
      ]
    },
    {
      "cell_type": "code",
      "metadata": {
        "id": "3qYxgXEXq8QW"
      },
      "source": [
        "df1 = data.copy()\n",
        "df1['date'] = df1['date'].view(np.int64)"
      ],
      "execution_count": 8,
      "outputs": []
    },
    {
      "cell_type": "markdown",
      "metadata": {
        "id": "VWeQZuYdsewh"
      },
      "source": [
        "### 1.4.1 **Z-score method** "
      ]
    },
    {
      "cell_type": "markdown",
      "metadata": {
        "id": "X_O620entoAK"
      },
      "source": [
        "\"The Z-score is the signed number of standard deviations by which the value of an observation or data point is above the mean value of what is being observed or measured.\"\n",
        "\n",
        "\"The intuition behind Z-score is to describe any data point by finding their relationship with the Standard Deviation and Mean of the group of data points. Z-score is finding the distribution of data where mean is 0 and standard deviation is 1 i.e. normal distribution.\"\n",
        "\n",
        "\"Calculating the Z-score, we re-scale and center the data and look for data points which are too far from zero. These data points which are way too far from zero will be treated as the outliers.\"\n",
        "\n",
        "In this case (project), a threshold of 3 was used. For instance, when the Z-score value was greater than 3, that data point was identified as an outlier."
      ]
    },
    {
      "cell_type": "code",
      "metadata": {
        "colab": {
          "base_uri": "https://localhost:8080/"
        },
        "id": "0s1v4ibas2P-",
        "outputId": "b03f262d-12a2-4f6a-9ac5-d94a7c67a703"
      },
      "source": [
        "def standardization_data(df1):\n",
        "    z1 = np.abs(stats.zscore(df1.drop(columns=['id','date'])))\n",
        "    print(\"Standardized dataset:\\n\\n\", z1)\n",
        "    \n",
        "    return z1\n",
        "\n",
        "def show_index_outliers(z1):\n",
        "    #Defining threshold as 3\n",
        "    threshold = 3\n",
        "    \n",
        "    print(\"\\n\\nIndexes of the outliers:\\n\\n\",np.where(z1 > threshold))\n",
        "    \n",
        "    return None\n",
        "\n",
        "def show_first_outlier(z1):\n",
        "    print(\"\\n\\nValue of the first outlier:\\n\\n\",z1[1][13])\n",
        "    \n",
        "    return None\n",
        "\n",
        "def removing_outliers(df1, z1):\n",
        "    df2 = df1[(z1 < 3).all(axis=1)]\n",
        "    \n",
        "    return df2\n",
        "\n",
        "def show_new_shape(df2):\n",
        "    print(\"\\n\\nShape of the clean dataset:\\n\\nNumber of rows:\", df2.shape[0])\n",
        "    print(\"Number of columns:\", df2.shape[1])\n",
        "    \n",
        "    return None\n",
        "\n",
        "if __name__ == '__main__':\n",
        "    \n",
        "    z1 = standardization_data(df1)\n",
        "    \n",
        "    show_index_outliers(z1)\n",
        "    \n",
        "    show_first_outlier(z1)\n",
        "    \n",
        "    df2 = removing_outliers(df1, z1)\n",
        "    \n",
        "    show_new_shape(df2)"
      ],
      "execution_count": 9,
      "outputs": [
        {
          "output_type": "stream",
          "name": "stdout",
          "text": [
            "Standardized dataset:\n",
            "\n",
            " [[0.86671733 0.39873715 1.44746357 ... 0.30607896 0.9433552  0.26071541]\n",
            " [0.00568792 0.39873715 0.1756067  ... 0.74634143 0.43268619 0.18786773]\n",
            " [0.98084935 1.47395936 1.44746357 ... 0.13565477 1.07013975 0.17237524]\n",
            " ...\n",
            " [0.37586519 1.47395936 1.77207762 ... 0.60432128 1.41025258 0.39414129]\n",
            " [0.38158814 0.39873715 0.50022075 ... 1.02891048 0.8412214  0.42051149]\n",
            " [0.58588173 1.47395936 1.77207762 ... 0.60432128 1.41025258 0.41794772]]\n",
            "\n",
            "\n",
            "Indexes of the outliers:\n",
            "\n",
            " (array([    1,     5,     5, ..., 21590, 21590, 21600]), array([13,  2,  3, ..., 11, 17, 10]))\n",
            "\n",
            "\n",
            "Value of the first outlier:\n",
            "\n",
            " 4.746677600764257\n",
            "\n",
            "\n",
            "Shape of the clean dataset:\n",
            "\n",
            "Number of rows: 18702\n",
            "Number of columns: 21\n"
          ]
        }
      ]
    },
    {
      "cell_type": "markdown",
      "metadata": {
        "id": "lAGLk6TRvH7G"
      },
      "source": [
        "### 1.4.2 Interquartile range (IQR) method"
      ]
    },
    {
      "cell_type": "markdown",
      "metadata": {
        "id": "dzHfsg1WvXm9"
      },
      "source": [
        "Box plot use the IQR method to display data and outliers(shape of the data). The interquartile range (IQR) is a measure of statistical dispersion, being equal to the difference between 75th and 25th percentiles, or between upper and lower quartiles, IQR = Q3 − Q1.\n",
        "\n",
        "\"It is a measure of the dispersion similar to standard deviation or variance, but is much more robust against outliers.\""
      ]
    },
    {
      "cell_type": "code",
      "metadata": {
        "colab": {
          "base_uri": "https://localhost:8080/"
        },
        "id": "uo9Szc_LugbC",
        "outputId": "1321d2b6-56de-4d3e-ac9d-cfa2fda9a247"
      },
      "source": [
        "def quartiles(df1):\n",
        "    Q1 = df2.drop(columns=['id','date']).quantile(0.25)\n",
        "    Q3 = df2.drop(columns=['id','date']).quantile(0.75)\n",
        "    \n",
        "    return Q1, Q3\n",
        "\n",
        "def IQR_function(Q1, Q3):\n",
        "    IQR = Q3 - Q1\n",
        "    print(\"Interquartile range:\\n\\n\",IQR)\n",
        "    \n",
        "    return IQR\n",
        "\n",
        "def show_boolean_outliers(df2, Q1, Q3, IQR):\n",
        "    print(\"\\n\\nBoolean values:\\n\\n\",(df2 < (Q1 - 1.5 * IQR)) | (df2 > (Q3 + 1.5 * IQR)))\n",
        "    \n",
        "    return None\n",
        "\n",
        "def removing_outliers(df2, Q1, Q3, IQR):\n",
        "    df3 = df2[~((df2 < (Q1 - 1.5 * IQR)) | (df2 > (Q3 + 1.5 * IQR))).any(axis=1)]\n",
        "    \n",
        "    return df3\n",
        "\n",
        "def show_dimensions_dataset(df3):\n",
        "    print(\"\\n\\nShape of the clean dataset:\\n\\n\",df3.shape)\n",
        "    \n",
        "    return None\n",
        "\n",
        "def copy_data_clean(df3):\n",
        "  data = df3.copy()\n",
        "\n",
        "  return data\n",
        "\n",
        "if __name__ == '__main__':\n",
        "    \n",
        "    Q1, Q3 = quartiles(df1)\n",
        "    \n",
        "    IQR = IQR_function(Q1, Q3)\n",
        "    \n",
        "    show_boolean_outliers(df2, Q1, Q3, IQR)\n",
        "    \n",
        "    df3 = removing_outliers(df2, Q1, Q3, IQR)\n",
        "    \n",
        "    show_dimensions_dataset(df3)\n",
        "\n",
        "    data = copy_data_clean(df3)"
      ],
      "execution_count": 10,
      "outputs": [
        {
          "output_type": "stream",
          "name": "stdout",
          "text": [
            "Interquartile range:\n",
            "\n",
            " price           287000.00\n",
            "bedrooms             1.00\n",
            "bathrooms            1.00\n",
            "sqft_living       1019.00\n",
            "sqft_lot          4881.50\n",
            "floors               1.00\n",
            "waterfront           0.00\n",
            "view                 0.00\n",
            "condition            1.00\n",
            "grade                1.00\n",
            "sqft_above         924.50\n",
            "sqft_basement      500.00\n",
            "yr_built            44.00\n",
            "yr_renovated         0.00\n",
            "zipcode             85.00\n",
            "lat                  0.21\n",
            "long                 0.19\n",
            "sqft_living15      790.00\n",
            "sqft_lot15        4600.00\n",
            "dtype: float64\n",
            "\n",
            "\n",
            "Boolean values:\n",
            "\n",
            "        bathrooms  bedrooms  condition  ...  yr_built  yr_renovated  zipcode\n",
            "0          False     False      False  ...     False         False    False\n",
            "2          False     False      False  ...     False         False    False\n",
            "3          False     False      False  ...     False         False    False\n",
            "4          False     False      False  ...     False         False    False\n",
            "6          False     False      False  ...     False         False    False\n",
            "...          ...       ...        ...  ...       ...           ...      ...\n",
            "21608      False     False      False  ...     False         False    False\n",
            "21609      False     False      False  ...     False         False    False\n",
            "21610      False     False      False  ...     False         False    False\n",
            "21611      False     False      False  ...     False         False    False\n",
            "21612      False     False      False  ...     False         False    False\n",
            "\n",
            "[18702 rows x 21 columns]\n",
            "\n",
            "\n",
            "Shape of the clean dataset:\n",
            "\n",
            " (14541, 21)\n"
          ]
        }
      ]
    },
    {
      "cell_type": "code",
      "metadata": {
        "id": "d_pvFLMsIXiZ"
      },
      "source": [
        ""
      ],
      "execution_count": 11,
      "outputs": []
    }
  ]
}